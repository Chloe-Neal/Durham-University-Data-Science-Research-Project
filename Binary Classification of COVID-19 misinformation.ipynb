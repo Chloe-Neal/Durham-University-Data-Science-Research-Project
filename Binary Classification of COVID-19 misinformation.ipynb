{
 "cells": [
  {
   "cell_type": "markdown",
   "id": "e94d8ae1",
   "metadata": {},
   "source": [
    "# Step 1: Read in the Data and Packages"
   ]
  },
  {
   "cell_type": "markdown",
   "id": "d022ff47",
   "metadata": {},
   "source": [
    "Packages"
   ]
  },
  {
   "cell_type": "code",
   "execution_count": 2,
   "id": "91f048fc",
   "metadata": {},
   "outputs": [],
   "source": [
    "# General\n",
    "import pandas as pd\n",
    "import numpy as np\n",
    "from nltk import word_tokenize\n",
    "import re\n",
    "from string import punctuation \n",
    "from nltk.corpus import stopwords\n",
    "import nltk \n",
    "#nltk.download('wordnet') # Downloads the WordNetLemmatizer package\n",
    "from nltk.stem import WordNetLemmatizer \n",
    "import re\n",
    "\n",
    "#Word Cloud\n",
    "from os import path\n",
    "from PIL import Image\n",
    "import wordcloud\n",
    "from wordcloud import WordCloud, STOPWORDS, ImageColorGenerator\n",
    "\n",
    "# Oversample\n",
    "from sklearn.utils import resample\n",
    "import dataframe_image as dfi\n",
    "\n",
    "# Train Test Split\n",
    "from sklearn.model_selection import train_test_split\n",
    "\n",
    "#Models and Performance Metrics\n",
    "from sklearn.feature_extraction.text import TfidfVectorizer\n",
    "from sklearn.naive_bayes import MultinomialNB\n",
    "from sklearn.naive_bayes import BernoulliNB\n",
    "from sklearn.pipeline import make_pipeline\n",
    "from sklearn.ensemble import RandomForestClassifier\n",
    "from sklearn import tree\n",
    "from sklearn.neighbors import KNeighborsClassifier\n",
    "from sklearn.metrics import confusion_matrix, accuracy_score, f1_score,precision_score,recall_score,classification_report\n",
    "import seaborn as sns\n",
    "import matplotlib.pyplot as plt\n",
    "from sklearn import svm\n",
    "sns.set() \n",
    "\n",
    "# Neural Networks\n",
    "import torch\n",
    "import torchtext\n",
    "from torchtext.legacy import data #For handling text data\n",
    "import torch.nn as nn\n",
    "import torch.optim as optim\n",
    "import torch.nn.functional as F\n"
   ]
  },
  {
   "attachments": {},
   "cell_type": "markdown",
   "id": "12338e9f",
   "metadata": {},
   "source": [
    "The Dataset being used is the COVID-19 Rumours Dataset (Cheng, M., Wang, S., Yan, X., Yang, T., Wang, W., Huang, Z., Xiao, X., Nazarian, S., & Bogdan, P. (2021). A COVID-19 Rumor Dataset. Frontiers in Psychology, 12. https://doi.org/10.3389/fpsyg.2021.644801)"
   ]
  },
  {
   "cell_type": "code",
   "execution_count": 3,
   "id": "dc5ef207",
   "metadata": {},
   "outputs": [
    {
     "data": {
      "text/html": [
       "<div>\n",
       "<style scoped>\n",
       "    .dataframe tbody tr th:only-of-type {\n",
       "        vertical-align: middle;\n",
       "    }\n",
       "\n",
       "    .dataframe tbody tr th {\n",
       "        vertical-align: top;\n",
       "    }\n",
       "\n",
       "    .dataframe thead th {\n",
       "        text-align: right;\n",
       "    }\n",
       "</style>\n",
       "<table border=\"1\" class=\"dataframe\">\n",
       "  <thead>\n",
       "    <tr style=\"text-align: right;\">\n",
       "      <th></th>\n",
       "      <th>veracity</th>\n",
       "      <th>text</th>\n",
       "    </tr>\n",
       "  </thead>\n",
       "  <tbody>\n",
       "    <tr>\n",
       "      <th>0</th>\n",
       "      <td>F</td>\n",
       "      <td>Coronavirus was created in a government lab as...</td>\n",
       "    </tr>\n",
       "    <tr>\n",
       "      <th>1</th>\n",
       "      <td>F</td>\n",
       "      <td>The lie that coronavirus came from a bat or a ...</td>\n",
       "    </tr>\n",
       "    <tr>\n",
       "      <th>2</th>\n",
       "      <td>F</td>\n",
       "      <td>The health experts had predicted the virus cou...</td>\n",
       "    </tr>\n",
       "    <tr>\n",
       "      <th>3</th>\n",
       "      <td>F</td>\n",
       "      <td>A video clip supposedly showed that the expone...</td>\n",
       "    </tr>\n",
       "    <tr>\n",
       "      <th>4</th>\n",
       "      <td>T</td>\n",
       "      <td>Almost 200 people in Italy died from the coron...</td>\n",
       "    </tr>\n",
       "    <tr>\n",
       "      <th>...</th>\n",
       "      <td>...</td>\n",
       "      <td>...</td>\n",
       "    </tr>\n",
       "    <tr>\n",
       "      <th>7174</th>\n",
       "      <td>F</td>\n",
       "      <td>“DDP (Democratic Progressive Party) legislator...</td>\n",
       "    </tr>\n",
       "    <tr>\n",
       "      <th>7175</th>\n",
       "      <td>F</td>\n",
       "      <td>In Japan, if the new coronavirus test is negat...</td>\n",
       "    </tr>\n",
       "    <tr>\n",
       "      <th>7176</th>\n",
       "      <td>T</td>\n",
       "      <td>We have a perfectly coordinated and fine tuned...</td>\n",
       "    </tr>\n",
       "    <tr>\n",
       "      <th>7177</th>\n",
       "      <td>F</td>\n",
       "      <td>Official death toll over 900 but we all know t...</td>\n",
       "    </tr>\n",
       "    <tr>\n",
       "      <th>7178</th>\n",
       "      <td>F</td>\n",
       "      <td>The number of new cases from China's coronavir...</td>\n",
       "    </tr>\n",
       "  </tbody>\n",
       "</table>\n",
       "<p>7179 rows × 2 columns</p>\n",
       "</div>"
      ],
      "text/plain": [
       "     veracity                                               text\n",
       "0           F  Coronavirus was created in a government lab as...\n",
       "1           F  The lie that coronavirus came from a bat or a ...\n",
       "2           F  The health experts had predicted the virus cou...\n",
       "3           F  A video clip supposedly showed that the expone...\n",
       "4           T  Almost 200 people in Italy died from the coron...\n",
       "...       ...                                                ...\n",
       "7174        F  “DDP (Democratic Progressive Party) legislator...\n",
       "7175        F  In Japan, if the new coronavirus test is negat...\n",
       "7176        T  We have a perfectly coordinated and fine tuned...\n",
       "7177        F  Official death toll over 900 but we all know t...\n",
       "7178        F  The number of new cases from China's coronavir...\n",
       "\n",
       "[7179 rows x 2 columns]"
      ]
     },
     "execution_count": 3,
     "metadata": {},
     "output_type": "execute_result"
    }
   ],
   "source": [
    "url = 'https://raw.githubusercontent.com/MickeysClubhouse/COVID-19-rumor-dataset/master/Data/en_dup.csv'\n",
    "df = pd.read_csv(url)\n",
    "df = df.drop(columns=['source', 'author', 'time',])\n",
    "df.rename(columns={'label': 'veracity', 'content': 'text'}, inplace=True)\n",
    "df"
   ]
  },
  {
   "cell_type": "markdown",
   "id": "c754ad13",
   "metadata": {},
   "source": [
    "Save to CSV if needed"
   ]
  },
  {
   "cell_type": "code",
   "execution_count": 4,
   "id": "6be03531",
   "metadata": {},
   "outputs": [],
   "source": [
    "#df.to_csv('Covid Rumours.csv', index=False)"
   ]
  },
  {
   "cell_type": "markdown",
   "id": "d9b19835",
   "metadata": {},
   "source": [
    "Relabel Veracity to true, false and unverified"
   ]
  },
  {
   "cell_type": "code",
   "execution_count": 5,
   "id": "40f4463a",
   "metadata": {},
   "outputs": [],
   "source": [
    "df['veracity'] = df['veracity'].map({\"F\":\"False\",\"T\":\"True\", \"U\":\"Unverified\"})"
   ]
  },
  {
   "cell_type": "markdown",
   "id": "02a423c1",
   "metadata": {},
   "source": [
    "Drop unverified for binary classification task"
   ]
  },
  {
   "cell_type": "code",
   "execution_count": 6,
   "id": "0a8fb976",
   "metadata": {},
   "outputs": [],
   "source": [
    "df.drop(df.index[df['veracity'] == 'Unverified'], inplace = True)"
   ]
  },
  {
   "cell_type": "markdown",
   "id": "f0f70ce0",
   "metadata": {},
   "source": [
    "Check Class distributions prior to preprocessing"
   ]
  },
  {
   "cell_type": "code",
   "execution_count": 7,
   "id": "bcd1acf8",
   "metadata": {},
   "outputs": [
    {
     "name": "stdout",
     "output_type": "stream",
     "text": [
      "The Percentage of classes are:\n",
      "False    66.2%\n",
      "True     33.8%\n",
      "Name: veracity, dtype: object\n",
      "\n",
      "\n",
      "The Number of classes are:\n",
      "False    3681\n",
      "True     1878\n",
      "Name: veracity, dtype: int64\n"
     ]
    }
   ],
   "source": [
    "print(\"The Percentage of classes are:\")\n",
    "print(df['veracity'].value_counts(normalize=True).mul(100).round(1).astype(str) + '%')\n",
    "print(\"\\n\")\n",
    "print(\"The Number of classes are:\")\n",
    "print(df['veracity'].value_counts())"
   ]
  },
  {
   "cell_type": "markdown",
   "id": "79786d74",
   "metadata": {},
   "source": [
    "# Step 2: PreProcess the Data"
   ]
  },
  {
   "cell_type": "markdown",
   "id": "2ca1f172",
   "metadata": {},
   "source": [
    "Split X (text) and Y (veracity)"
   ]
  },
  {
   "cell_type": "code",
   "execution_count": 8,
   "id": "d6dcd376",
   "metadata": {},
   "outputs": [
    {
     "name": "stdout",
     "output_type": "stream",
     "text": [
      "5559\n",
      "5559\n"
     ]
    }
   ],
   "source": [
    "veracity = df[\"veracity\"].tolist()\n",
    "text = df[\"text\"].tolist()\n",
    "\n",
    "#Check the length of samples for debugging purposes\n",
    "print(len(veracity))\n",
    "print(len(text))"
   ]
  },
  {
   "cell_type": "markdown",
   "id": "969505ae",
   "metadata": {},
   "source": [
    "1: Remove stopwords, lowercase and tokenize"
   ]
  },
  {
   "cell_type": "code",
   "execution_count": 9,
   "id": "ba3832d8",
   "metadata": {},
   "outputs": [],
   "source": [
    "stopwords_english = stopwords.words('english') "
   ]
  },
  {
   "cell_type": "code",
   "execution_count": 10,
   "id": "9b1c7fbb",
   "metadata": {},
   "outputs": [],
   "source": [
    "# Adding Extra words to the stopoword corpus\n",
    "f = \"say\"\n",
    "stopwords_english.append(f)\n",
    "l = \"get\"\n",
    "stopwords_english.append(l)"
   ]
  },
  {
   "cell_type": "code",
   "execution_count": 88,
   "id": "feee8eca",
   "metadata": {},
   "outputs": [
    {
     "name": "stdout",
     "output_type": "stream",
     "text": [
      "Text 7: n\n",
      "Veracity 7: False\n"
     ]
    }
   ],
   "source": [
    "veracity_token = []\n",
    "text_token = []\n",
    "\n",
    "#Printing the 7th text out to see change in processes. Here this is \n",
    "# the text before preprocessing\n",
    "print(\"Text 7:\", text[7])\n",
    "print(\"Veracity 7:\", veracity[7])\n"
   ]
  },
  {
   "cell_type": "code",
   "execution_count": 12,
   "id": "f7b5294c",
   "metadata": {},
   "outputs": [
    {
     "name": "stdout",
     "output_type": "stream",
     "text": [
      "Tokenising text...[Completed!]\n",
      "\n"
     ]
    }
   ],
   "source": [
    "print(\"Tokenising text...\", end=\"\")\n",
    "for i in range(len(text)):\n",
    "    try:\n",
    "        tokens = word_tokenize(text[i].lower())#break up sentence to individual words\n",
    "        stopwords_removed = [k for k in tokens if k not in stopwords_english]\n",
    "        if(len(stopwords_removed)>1):  \n",
    "            text_token.append(stopwords_removed) \n",
    "            veracity_token.append(veracity[i]) \n",
    "    except:\n",
    "        pass\n",
    "# See when action is completed\n",
    "print(\"[Completed!]\\n\")"
   ]
  },
  {
   "cell_type": "code",
   "execution_count": 13,
   "id": "484a1798",
   "metadata": {},
   "outputs": [
    {
     "name": "stdout",
     "output_type": "stream",
     "text": [
      "Total text: 5558\n",
      "Total labels: 5558\n",
      "Text 1: ['centers', 'disease', 'control', 'prevention', '(', 'cdc', ')', 'announced', 'covid-19', ',', 'disease', 'caused', 'coronavirus', ',', 'found', 'toilet', 'paper', ',', 'people', 'use', 'wet', 'cloths', 'instead']\n",
      "Veracity 1: False\n"
     ]
    }
   ],
   "source": [
    "print(\"Total text:\", len(text_token))\n",
    "print(\"Total labels:\", len(veracity_token))\n",
    "print(\"Text 7:\", text_token[7])\n",
    "print(\"Veracity 7:\", veracity_token[7])"
   ]
  },
  {
   "cell_type": "markdown",
   "id": "9c05d33e",
   "metadata": {},
   "source": [
    "2: Remove Punctuation and empty elements. COVID-19 is replaced with covidnineteen to keep it original later"
   ]
  },
  {
   "cell_type": "code",
   "execution_count": 14,
   "id": "9cc8f444",
   "metadata": {},
   "outputs": [],
   "source": [
    "text_preprocessed = text_token #copy"
   ]
  },
  {
   "cell_type": "code",
   "execution_count": 15,
   "id": "c1341810",
   "metadata": {},
   "outputs": [
    {
     "name": "stdout",
     "output_type": "stream",
     "text": [
      "Preprocessing text..[Completed]\n",
      "\n",
      "['centers', 'disease', 'control', 'prevention', 'cdc', 'announced', 'covidnineteen', 'disease', 'caused', 'coronavirus', 'found', 'toilet', 'paper', 'people', 'use', 'wet', 'cloths', 'instead']\n"
     ]
    }
   ],
   "source": [
    "print(\"Preprocessing text..\",end=\"\")\n",
    "for i in range(len(text_token)):\n",
    "    new_tokens = []\n",
    "    for word in text_token[i]:\n",
    "        word = word.replace(\"covid-19\", \"covidnineteen\")\n",
    "        word = word.replace(\"5g\", \"fiveg\")\n",
    "        word = word.replace(\"-\", \" \")\n",
    "        word = word.replace(\".\", \" \")\n",
    "        word = word.replace(\"!\", \" \")\n",
    "        word = word.replace(\"https\", \" \")\n",
    "        word = word.replace(\"wasn t \", \"was not\")\n",
    "        word = word.replace(\" s\", \" \") \n",
    "        regex_check = re.match(\"[a-z]+\", word) #Only keep words a-z\n",
    "        if(regex_check!=None):\n",
    "            if(regex_check.group()==word):\n",
    "                new_tokens.append(word)\n",
    "    text_preprocessed[i] = new_tokens\n",
    "print(\"[Completed]\\n\")\n",
    "\n",
    "# Check if pre-processing led to any empty entries\n",
    "for i in range(len(text_preprocessed)):\n",
    "    if(len(text_preprocessed[i])==0):\n",
    "        print(\"Text\",i,\"is empty. This should be removed!\")\n",
    "print(text_preprocessed[7])\n",
    "        "
   ]
  },
  {
   "cell_type": "code",
   "execution_count": 16,
   "id": "3fcae171",
   "metadata": {},
   "outputs": [],
   "source": [
    "#Removing empty elements\n",
    "text_pp = []\n",
    "veracity_pp = []\n",
    "\n",
    "for i in range(len(text_preprocessed)):\n",
    "    if(len(text_preprocessed[i])>1):\n",
    "        text_pp.append(text_preprocessed[i])\n",
    "        veracity_pp.append(veracity_token[i])"
   ]
  },
  {
   "cell_type": "code",
   "execution_count": 17,
   "id": "e244a5be",
   "metadata": {},
   "outputs": [
    {
     "name": "stdout",
     "output_type": "stream",
     "text": [
      "5552\n",
      "5552\n"
     ]
    }
   ],
   "source": [
    "# Check length as debugging \n",
    "print(len(text_pp))\n",
    "print(len(veracity_pp))"
   ]
  },
  {
   "cell_type": "markdown",
   "id": "ebe74e1b",
   "metadata": {},
   "source": [
    "3: Join together for Lemmatisation"
   ]
  },
  {
   "cell_type": "code",
   "execution_count": 18,
   "id": "578a1aca",
   "metadata": {},
   "outputs": [
    {
     "name": "stdout",
     "output_type": "stream",
     "text": [
      "First Text :\n",
      " centers disease control prevention cdc announced covidnineteen disease caused coronavirus found toilet paper people use wet cloths instead \n",
      "\n"
     ]
    }
   ],
   "source": [
    "sentence_final= []\n",
    "\n",
    "for k in range(len(text_pp)):\n",
    "    text = \" \".join(text_pp[k])\n",
    "    sentence_final.append(text)\n",
    "print(\"First Text :\\n\", sentence_final[7], \"\\n\")"
   ]
  },
  {
   "cell_type": "markdown",
   "id": "189f96eb",
   "metadata": {},
   "source": [
    "4: Lemmatisation "
   ]
  },
  {
   "cell_type": "code",
   "execution_count": 19,
   "id": "d321a26a",
   "metadata": {},
   "outputs": [],
   "source": [
    "wnl = WordNetLemmatizer()"
   ]
  },
  {
   "cell_type": "code",
   "execution_count": 20,
   "id": "d664f41f",
   "metadata": {},
   "outputs": [
    {
     "name": "stdout",
     "output_type": "stream",
     "text": [
      "['center', 'disease', 'control', 'prevention', 'cdc', 'announce', 'covidnineteen', 'disease', 'cause', 'coronavirus', 'find', 'toilet', 'paper', 'people', 'use', 'wet', 'cloths', 'instead']\n"
     ]
    }
   ],
   "source": [
    "sentence_final2 = [[wnl.lemmatize(word, pos='v') for word in sentence.split(\" \")] for sentence in sentence_final]\n",
    "print(sentence_final2[7])"
   ]
  },
  {
   "cell_type": "markdown",
   "id": "6408cac9",
   "metadata": {},
   "source": [
    "5: Join together"
   ]
  },
  {
   "cell_type": "code",
   "execution_count": 21,
   "id": "9ebdbd53",
   "metadata": {},
   "outputs": [
    {
     "name": "stdout",
     "output_type": "stream",
     "text": [
      "['center', 'disease', 'control', 'prevention', 'cdc', 'announce', 'covid-19', 'disease', 'cause', 'coronavirus', 'find', 'toilet', 'paper', 'people', 'use', 'wet', 'cloths', 'instead']\n"
     ]
    }
   ],
   "source": [
    "for i in range(len(sentence_final2)):\n",
    "    new_tokens = []\n",
    "    for word in sentence_final2[i]:\n",
    "        word = word.replace(\"covidnineteen\", \"covid-19\")\n",
    "        word = word.replace(\"fiveg\", \"five-g\")\n",
    "        new_tokens.append(word)\n",
    "    sentence_final2[i] = new_tokens\n",
    "print(sentence_final2[7])"
   ]
  },
  {
   "cell_type": "code",
   "execution_count": 22,
   "id": "0ed20898",
   "metadata": {},
   "outputs": [
    {
     "name": "stdout",
     "output_type": "stream",
     "text": [
      "First text :\n",
      " center disease control prevention cdc announce covid-19 disease cause coronavirus find toilet paper people use wet cloths instead \n",
      "\n"
     ]
    }
   ],
   "source": [
    "# Join together\n",
    "sentence_finals= []\n",
    "\n",
    "for k in range(len(sentence_final2)):\n",
    "    text = \" \".join(sentence_final2[k])\n",
    "    sentence_finals.append(text)\n",
    "print(\"First text :\\n\", sentence_finals[7], \"\\n\")"
   ]
  },
  {
   "cell_type": "code",
   "execution_count": 23,
   "id": "265e99c3",
   "metadata": {},
   "outputs": [
    {
     "name": "stdout",
     "output_type": "stream",
     "text": [
      "There are 5552 texts\n",
      "There are 5552 veracity labels\n"
     ]
    }
   ],
   "source": [
    "# Checking lengths\n",
    "print(\"There are\",len(sentence_finals), \"texts\")\n",
    "print(\"There are\",len(veracity_pp), \"veracity labels\")"
   ]
  },
  {
   "cell_type": "markdown",
   "id": "76ce1763",
   "metadata": {},
   "source": [
    "# Step 3: Prepare for Analysis "
   ]
  },
  {
   "cell_type": "code",
   "execution_count": 24,
   "id": "37e68742",
   "metadata": {},
   "outputs": [
    {
     "name": "stdout",
     "output_type": "stream",
     "text": [
      "                                                Text Veracity\n",
      "0  coronavirus create government lab bioweapon re...    False\n",
      "1  lie coronavirus come bat pangolin concoct chin...    False\n",
      "2  health experts predict virus could kill millio...    False\n",
      "3  video clip supposedly show exponential spread ...    False\n",
      "4   almost people italy die coronavirus period march     True\n"
     ]
    }
   ],
   "source": [
    "data = pd.DataFrame({\"Text\":sentence_finals, \"Veracity\": veracity_pp})\n",
    "data.to_csv('data_binary.csv',index=False)\n",
    "print(data.head())"
   ]
  },
  {
   "cell_type": "markdown",
   "id": "d45b2061",
   "metadata": {},
   "source": [
    "Split training and testing, 70% vs 30%"
   ]
  },
  {
   "cell_type": "code",
   "execution_count": 25,
   "id": "37c7ffbe",
   "metadata": {},
   "outputs": [],
   "source": [
    "train, test = train_test_split(data, test_size = 0.3)"
   ]
  },
  {
   "cell_type": "code",
   "execution_count": 26,
   "id": "d0f593e0",
   "metadata": {},
   "outputs": [
    {
     "name": "stdout",
     "output_type": "stream",
     "text": [
      "There are 3886 observations in the training set\n",
      "There are 1666 observations in the testing set\n",
      "\n",
      "\n"
     ]
    }
   ],
   "source": [
    "#Debugging\n",
    "print(\"There are\", len(train), \"observations in the training set\")\n",
    "print(\"There are\", len(test), \"observations in the testing set\")\n",
    "print(\"\\n\")"
   ]
  },
  {
   "cell_type": "code",
   "execution_count": 27,
   "id": "8057f4e6",
   "metadata": {},
   "outputs": [
    {
     "name": "stdout",
     "output_type": "stream",
     "text": [
      "The Percentage of train classes are:\n",
      "False    66.7%\n",
      "True     33.3%\n",
      "Name: Veracity, dtype: object\n",
      "\n",
      "\n",
      "The Number of train classes are:\n",
      "False    2592\n",
      "True     1294\n",
      "Name: Veracity, dtype: int64\n"
     ]
    }
   ],
   "source": [
    "# Class distributions of training set\n",
    "print(\"The Percentage of train classes are:\")\n",
    "print(train['Veracity'].value_counts(normalize=True).mul(100).round(1).astype(str) + '%')\n",
    "print(\"\\n\")\n",
    "print(\"The Number of train classes are:\")\n",
    "print(train['Veracity'].value_counts())"
   ]
  },
  {
   "cell_type": "code",
   "execution_count": 28,
   "id": "674d2899",
   "metadata": {},
   "outputs": [
    {
     "name": "stdout",
     "output_type": "stream",
     "text": [
      "The Percentage of test classes are:\n",
      "False    65.1%\n",
      "True     34.9%\n",
      "Name: Veracity, dtype: object\n",
      "\n",
      "\n",
      "The Number of test classes are:\n",
      "False    1084\n",
      "True      582\n",
      "Name: Veracity, dtype: int64\n"
     ]
    }
   ],
   "source": [
    "print(\"The Percentage of test classes are:\")\n",
    "print(test['Veracity'].value_counts(normalize=True).mul(100).round(1).astype(str) + '%')\n",
    "print(\"\\n\")\n",
    "print(\"The Number of test classes are:\")\n",
    "print(test['Veracity'].value_counts())"
   ]
  },
  {
   "cell_type": "markdown",
   "id": "99366080",
   "metadata": {},
   "source": [
    "# Create Class Distribution Tables"
   ]
  },
  {
   "cell_type": "code",
   "execution_count": 29,
   "id": "52198311",
   "metadata": {},
   "outputs": [
    {
     "data": {
      "text/html": [
       "<style  type=\"text/css\" >\n",
       "</style><table id=\"T_3df08_\" style='display:inline'><caption>Class Distribution of Training and Testing Set for Binary Analysis</caption><thead>    <tr>        <th class=\"blank level0\" ></th>        <th class=\"col_heading level0 col0\" >Training Count</th>        <th class=\"col_heading level0 col1\" >Training Percentage</th>        <th class=\"col_heading level0 col2\" >Testing Count</th>        <th class=\"col_heading level0 col3\" >Testing Percentage</th>    </tr>    <tr>        <th class=\"index_name level0\" >Classification</th>        <th class=\"blank\" ></th>        <th class=\"blank\" ></th>        <th class=\"blank\" ></th>        <th class=\"blank\" ></th>    </tr></thead><tbody>\n",
       "                <tr>\n",
       "                        <th id=\"T_3df08_level0_row0\" class=\"row_heading level0 row0\" >False</th>\n",
       "                        <td id=\"T_3df08_row0_col0\" class=\"data row0 col0\" >2592</td>\n",
       "                        <td id=\"T_3df08_row0_col1\" class=\"data row0 col1\" >66.7%</td>\n",
       "                        <td id=\"T_3df08_row0_col2\" class=\"data row0 col2\" >1084</td>\n",
       "                        <td id=\"T_3df08_row0_col3\" class=\"data row0 col3\" >65.1%</td>\n",
       "            </tr>\n",
       "            <tr>\n",
       "                        <th id=\"T_3df08_level0_row1\" class=\"row_heading level0 row1\" >True</th>\n",
       "                        <td id=\"T_3df08_row1_col0\" class=\"data row1 col0\" >1294</td>\n",
       "                        <td id=\"T_3df08_row1_col1\" class=\"data row1 col1\" >33.3%</td>\n",
       "                        <td id=\"T_3df08_row1_col2\" class=\"data row1 col2\" >582</td>\n",
       "                        <td id=\"T_3df08_row1_col3\" class=\"data row1 col3\" >34.9%</td>\n",
       "            </tr>\n",
       "    </tbody></table>"
      ],
      "text/plain": [
       "<pandas.io.formats.style.Styler at 0x7fe1b3e417c0>"
      ]
     },
     "execution_count": 29,
     "metadata": {},
     "output_type": "execute_result"
    }
   ],
   "source": [
    "class_dis2 = {}  \n",
    "class_dis2= pd.DataFrame(columns = [\"Classification\", \"Training Count\", \"Training Percentage\", \"Testing Count\", \"Testing Percentage\"],\n",
    "                         data = [[\"False\", 2592, \"66.7%\", 1084, \"65.1%\"],\n",
    "                                 [\"True\", 1294, \"33.3%\", 582, \"34.9%\"]])\n",
    "          \n",
    "                                 \n",
    "                                 \n",
    "class_dis2.set_index('Classification', inplace=True)\n",
    "class_dis2 \n",
    "\n",
    "c2 = class_dis2.style.set_table_attributes(\"style='display:inline'\").set_caption('Class Distribution of Training and Testing Set for Binary Analysis')\n",
    "\n",
    "\n",
    "#dfi.export(c2,\"Training and Testing Distribution 2 class.png\")\n",
    "c2\n"
   ]
  },
  {
   "cell_type": "code",
   "execution_count": 30,
   "id": "acb3fe51",
   "metadata": {},
   "outputs": [
    {
     "data": {
      "text/plain": [
       "Text(0.5, 1.0, 'Graph of the Distribution of Classes in the Training and Testing Set for Binary Analysis')"
      ]
     },
     "execution_count": 30,
     "metadata": {},
     "output_type": "execute_result"
    },
    {
     "data": {
      "image/png": "[encoded data removed]",
      "text/plain": [
       "<Figure size 720x360 with 1 Axes>"
      ]
     },
     "metadata": {},
     "output_type": "display_data"
    }
   ],
   "source": [
    "ax = class_dis2.plot.bar(figsize=[10,5],cmap='PiYG')\n",
    "#ax.figure(figsize=[10,8])\n",
    "ax.set_ylabel('Count')\n",
    "ax.set_xlabel('Classes')\n",
    "ax.set_title(\"Graph of the Distribution of Classes in the Training and Testing Set for Binary Analysis\")\n",
    "#ax.figure.savefig(\"Training and testing distribution 2 class graph.png\",transparent=False,bbox_inches='tight')\n"
   ]
  },
  {
   "cell_type": "markdown",
   "id": "74eff3cb",
   "metadata": {},
   "source": [
    "# Rebalance the Classes"
   ]
  },
  {
   "cell_type": "code",
   "execution_count": 31,
   "id": "56d185e4",
   "metadata": {},
   "outputs": [],
   "source": [
    "df_majority = train[train['Veracity']=='False']\n",
    "df_minority_true = train[train['Veracity']=='True']"
   ]
  },
  {
   "cell_type": "code",
   "execution_count": 32,
   "id": "d140f12f",
   "metadata": {},
   "outputs": [],
   "source": [
    "df_minority_upsampled_true = resample(df_minority_true,\n",
    "                                   replace = True,\n",
    "                                   n_samples =   2592)"
   ]
  },
  {
   "cell_type": "code",
   "execution_count": 33,
   "id": "27fe4a75",
   "metadata": {},
   "outputs": [],
   "source": [
    "df_upsampled = pd.concat([df_minority_upsampled_true,df_majority])\n"
   ]
  },
  {
   "cell_type": "code",
   "execution_count": 34,
   "id": "cbdc875f",
   "metadata": {},
   "outputs": [
    {
     "name": "stdout",
     "output_type": "stream",
     "text": [
      "The Percentage of classes are:\n",
      "True     50.0%\n",
      "False    50.0%\n",
      "Name: Veracity, dtype: object\n",
      "\n",
      "\n",
      "The Number of classes are:\n",
      "True     2592\n",
      "False    2592\n",
      "Name: Veracity, dtype: int64\n"
     ]
    }
   ],
   "source": [
    "# Check it worked- debugging\n",
    "print(\"The Percentage of classes are:\")\n",
    "print(df_upsampled['Veracity'].value_counts(normalize=True).mul(100).round(1).astype(str) + '%')\n",
    "print(\"\\n\")\n",
    "print(\"The Number of classes are:\")\n",
    "print(df_upsampled['Veracity'].value_counts())"
   ]
  },
  {
   "cell_type": "code",
   "execution_count": 35,
   "id": "e859e21b",
   "metadata": {},
   "outputs": [],
   "source": [
    "train = df_upsampled"
   ]
  },
  {
   "cell_type": "code",
   "execution_count": 36,
   "id": "62e133c4",
   "metadata": {},
   "outputs": [
    {
     "name": "stdout",
     "output_type": "stream",
     "text": [
      "5184\n",
      "5184\n",
      "1666\n",
      "1666\n"
     ]
    }
   ],
   "source": [
    "# Final debugging before model implementation\n",
    "train_text = train[\"Text\"].tolist()\n",
    "train_veracity = train[\"Veracity\"].tolist()\n",
    "\n",
    "test_text = test[\"Text\"].tolist()\n",
    "test_veracity = test[\"Veracity\"].tolist()\n",
    "\n",
    "# Check lengths\n",
    "print(len(train_text))\n",
    "print(len(train_veracity))\n",
    "\n",
    "print(len(test_text))\n",
    "print(len(test_veracity))"
   ]
  },
  {
   "cell_type": "markdown",
   "id": "88b5e0f0",
   "metadata": {},
   "source": [
    "# Step 5: Model Implementation"
   ]
  },
  {
   "cell_type": "markdown",
   "id": "3e1ecd30",
   "metadata": {},
   "source": [
    "# Model 1: Multinomial Naives Bayes"
   ]
  },
  {
   "cell_type": "code",
   "execution_count": 37,
   "id": "1d2fcfbe",
   "metadata": {},
   "outputs": [
    {
     "name": "stdout",
     "output_type": "stream",
     "text": [
      "Predicted Veracity: ['False', 'False', 'False', 'False', 'False']\n",
      "Ground truth veracity: ['False', 'False', 'False', 'False', 'False'] \n",
      "\n"
     ]
    }
   ],
   "source": [
    "# This creates Tf-Idf Vector, then feeds into the multinomial naive bayes.\n",
    "\n",
    "model1 = make_pipeline(TfidfVectorizer(), MultinomialNB())\n",
    "model1.fit(train_text, train_veracity) # Train \n",
    "\n",
    "predicted_categories = model1.predict(test_text) # Predict \n",
    "\n",
    "print(\"Predicted Veracity:\",predicted_categories.tolist()[0:5]) # First 5 predictions\n",
    "print(\"Ground truth veracity:\",test_veracity[0:5],\"\\n\") # First 5 ground truth values\n"
   ]
  },
  {
   "cell_type": "code",
   "execution_count": 76,
   "id": "9bae6fa3",
   "metadata": {},
   "outputs": [
    {
     "data": {
      "image/png": "[encoded data removed]",
      "text/plain": [
       "<Figure size 432x288 with 2 Axes>"
      ]
     },
     "metadata": {},
     "output_type": "display_data"
    },
    {
     "name": "stdout",
     "output_type": "stream",
     "text": [
      "Accuracy:\t0.799520\n",
      "F1-score:\t0.787897\n",
      "Precision:\t0.782238\n",
      "Recall:\t\t0.801779\n",
      "\n",
      " Classification performance:\n",
      "              precision    recall  f1-score   support\n",
      "\n",
      "       False       0.89      0.79      0.84      1084\n",
      "        True       0.68      0.81      0.74       582\n",
      "\n",
      "    accuracy                           0.80      1666\n",
      "   macro avg       0.78      0.80      0.79      1666\n",
      "weighted avg       0.81      0.80      0.80      1666\n",
      "\n"
     ]
    }
   ],
   "source": [
    "#Plot the confusion matrix \n",
    "mat1 = confusion_matrix(test_veracity, predicted_categories)\n",
    "sns.heatmap(mat1.T, square = True, xticklabels = [\"False\",\"True\"], yticklabels = [\"False\",\"True\"],annot=True, fmt = \"d\",cmap=\"RdPu\")\n",
    "plt.xlabel(\"Ground Truth label\")\n",
    "plt.ylabel(\"Predicted label\")\n",
    "plt.title(\"Naive Bayes: Binary Classification\")\n",
    "#plt.savefig(\"Model 1- Multinomial Naive Bayes 2 class.png\")\n",
    "plt.show()\n",
    "\n",
    "# Compute and print classification performance metrics\n",
    "print(\"Accuracy:\\t%f\" % accuracy_score(test_veracity, predicted_categories))\n",
    "print(\"F1-score:\\t%f\" % f1_score(test_veracity, predicted_categories, average='macro'))\n",
    "print(\"Precision:\\t%f\" % precision_score(test_veracity, predicted_categories, average='macro'))\n",
    "print(\"Recall:\\t\\t%f\" % recall_score(test_veracity, predicted_categories, average='macro'))\n",
    "\n",
    "print(\"\\n Classification performance:\\n%s\" % classification_report(test_veracity, predicted_categories))\n"
   ]
  },
  {
   "cell_type": "markdown",
   "id": "dfb27637",
   "metadata": {},
   "source": [
    "# Model 2- K-Nearest Neighbour"
   ]
  },
  {
   "cell_type": "code",
   "execution_count": 39,
   "id": "a240b95e",
   "metadata": {},
   "outputs": [
    {
     "name": "stdout",
     "output_type": "stream",
     "text": [
      "Predicted Veracity: ['False', 'True', 'False', 'False', 'False']\n",
      "Ground truth Veracity: ['False', 'False', 'False', 'False', 'False'] \n",
      "\n"
     ]
    }
   ],
   "source": [
    "# Creates numeric vector, feeds into KNN\n",
    "model3 = make_pipeline(TfidfVectorizer(), KNeighborsClassifier(n_neighbors=27))\n",
    "model3.fit(train_text, train_veracity) # Train \n",
    "\n",
    "predicted_categories3 = model3.predict(test_text) # Predict \n",
    "\n",
    "print(\"Predicted Veracity:\",predicted_categories3.tolist()[0:5]) # First 5 predictions\n",
    "print(\"Ground truth Veracity:\",test_veracity[0:5],\"\\n\") # First 5 ground truth values\n"
   ]
  },
  {
   "cell_type": "code",
   "execution_count": 78,
   "id": "d0541bfc",
   "metadata": {},
   "outputs": [
    {
     "data": {
      "image/png": "[encoded data removed]",
      "text/plain": [
       "<Figure size 432x288 with 2 Axes>"
      ]
     },
     "metadata": {},
     "output_type": "display_data"
    },
    {
     "name": "stdout",
     "output_type": "stream",
     "text": [
      "Accuracy:\t0.753301\n",
      "F1-score:\t0.729414\n",
      "Precision:\t0.728802\n",
      "Recall:\t\t0.730058\n",
      "\n",
      " Classification performance:\n",
      "              precision    recall  f1-score   support\n",
      "\n",
      "       False       0.81      0.81      0.81      1084\n",
      "        True       0.65      0.65      0.65       582\n",
      "\n",
      "    accuracy                           0.75      1666\n",
      "   macro avg       0.73      0.73      0.73      1666\n",
      "weighted avg       0.75      0.75      0.75      1666\n",
      "\n"
     ]
    }
   ],
   "source": [
    "mat3 = confusion_matrix(test_veracity, predicted_categories3)\n",
    "sns.heatmap(mat3.T, square = True,xticklabels = [\"False\",\"True\"], yticklabels = [\"False\",\"True\"],annot=True, fmt = \"d\",cmap=\"RdPu\")\n",
    "plt.xlabel(\"Ground Truth label\")\n",
    "plt.ylabel(\"Predicted label\")\n",
    "plt.title(\"KNN (K = 27): Binary Classification\")\n",
    "#plt.savefig(\"Model 3- KNN 2 Class.png\")\n",
    "plt.show()\n",
    "\n",
    "# Compute and print classification performance metrics\n",
    "print(\"Accuracy:\\t%f\" % accuracy_score(test_veracity, predicted_categories3))\n",
    "print(\"F1-score:\\t%f\" % f1_score(test_veracity, predicted_categories3, average='macro'))\n",
    "print(\"Precision:\\t%f\" % precision_score(test_veracity, predicted_categories3, average='macro'))\n",
    "print(\"Recall:\\t\\t%f\" % recall_score(test_veracity, predicted_categories3, average='macro'))\n",
    "\n",
    "print(\"\\n Classification performance:\\n%s\" % classification_report(test_veracity, predicted_categories3))\n"
   ]
  },
  {
   "cell_type": "markdown",
   "id": "9125ca9d",
   "metadata": {},
   "source": [
    "# Model 3- SVM"
   ]
  },
  {
   "cell_type": "code",
   "execution_count": 41,
   "id": "c7080f7c",
   "metadata": {},
   "outputs": [
    {
     "name": "stdout",
     "output_type": "stream",
     "text": [
      "Predicted Veracity: ['False', 'False', 'False', 'False', 'False']\n",
      "Ground truth Veracity: ['False', 'False', 'False', 'False', 'False'] \n",
      "\n"
     ]
    }
   ],
   "source": [
    "model4 = make_pipeline(TfidfVectorizer(), svm.SVC(kernel='linear'))\n",
    "model4.fit(train_text, train_veracity) # Train \n",
    "\n",
    "predicted_categories4 = model4.predict(test_text) # Predict\n",
    "\n",
    "print(\"Predicted Veracity:\",predicted_categories4.tolist()[0:5]) # First 5 predictions\n",
    "print(\"Ground truth Veracity:\",test_veracity[0:5],\"\\n\") # First 5 ground truth values\n"
   ]
  },
  {
   "cell_type": "code",
   "execution_count": 79,
   "id": "37e0e818",
   "metadata": {},
   "outputs": [
    {
     "data": {
      "image/png": "[encoded data removed]",
      "text/plain": [
       "<Figure size 432x288 with 2 Axes>"
      ]
     },
     "metadata": {},
     "output_type": "display_data"
    },
    {
     "name": "stdout",
     "output_type": "stream",
     "text": [
      "Accuracy:\t0.815726\n",
      "F1-score:\t0.798198\n",
      "Precision:\t0.796970\n",
      "Recall:\t\t0.799513\n",
      "\n",
      " Classification performance:\n",
      "              precision    recall  f1-score   support\n",
      "\n",
      "       False       0.86      0.85      0.86      1084\n",
      "        True       0.73      0.75      0.74       582\n",
      "\n",
      "    accuracy                           0.82      1666\n",
      "   macro avg       0.80      0.80      0.80      1666\n",
      "weighted avg       0.82      0.82      0.82      1666\n",
      "\n"
     ]
    }
   ],
   "source": [
    "#Plot the confusion matrix \n",
    "mat4 = confusion_matrix(test_veracity, predicted_categories4)\n",
    "sns.heatmap(mat4.T, square = True,xticklabels = [\"False\",\"True\"], yticklabels = [\"False\",\"True\"],annot=True, fmt = \"d\",cmap=\"RdPu\")\n",
    "plt.xlabel(\"Ground Truth label\")\n",
    "plt.ylabel(\"Predicted label\")\n",
    "plt.title(\"SVM: Binary Classification\")\n",
    "#plt.savefig(\"ModeL 4- SVM 2 class.png\")\n",
    "plt.show()\n",
    "\n",
    "# Compute and print classification performance metrics\n",
    "print(\"Accuracy:\\t%f\" % accuracy_score(test_veracity, predicted_categories4))\n",
    "print(\"F1-score:\\t%f\" % f1_score(test_veracity, predicted_categories4, average='macro'))\n",
    "print(\"Precision:\\t%f\" % precision_score(test_veracity, predicted_categories4, average='macro'))\n",
    "print(\"Recall:\\t\\t%f\" % recall_score(test_veracity, predicted_categories4, average='macro'))\n",
    "\n",
    "print(\"\\n Classification performance:\\n%s\" % classification_report(test_veracity, predicted_categories4))\n"
   ]
  },
  {
   "cell_type": "markdown",
   "id": "2c5d88d1",
   "metadata": {},
   "source": [
    "# Model 4- Decision Tree"
   ]
  },
  {
   "cell_type": "code",
   "execution_count": 43,
   "id": "79044a99",
   "metadata": {},
   "outputs": [
    {
     "name": "stdout",
     "output_type": "stream",
     "text": [
      "Predicted Veracity: ['False', 'True', 'False', 'False', 'False']\n",
      "Ground truth Veracity: ['False', 'False', 'False', 'False', 'False'] \n",
      "\n"
     ]
    }
   ],
   "source": [
    "model5 = make_pipeline(TfidfVectorizer(), tree.DecisionTreeClassifier(criterion='gini'))\n",
    "model5.fit(train_text, train_veracity) # Train\n",
    "\n",
    "predicted_categories5 = model5.predict(test_text) # Predict\n",
    "\n",
    "print(\"Predicted Veracity:\",predicted_categories5.tolist()[0:5]) # First 5 predictions\n",
    "print(\"Ground truth Veracity:\",test_veracity[0:5],\"\\n\") # First 5 ground truth values\n",
    "\n"
   ]
  },
  {
   "cell_type": "code",
   "execution_count": 81,
   "id": "efd217a2",
   "metadata": {},
   "outputs": [
    {
     "data": {
      "image/png": "[encoded data removed]",
      "text/plain": [
       "<Figure size 432x288 with 2 Axes>"
      ]
     },
     "metadata": {},
     "output_type": "display_data"
    },
    {
     "name": "stdout",
     "output_type": "stream",
     "text": [
      "Accuracy:\t0.719688\n",
      "F1-score:\t0.676454\n",
      "Precision:\t0.690039\n",
      "Recall:\t\t0.670411\n",
      "\n",
      " Classification performance:\n",
      "              precision    recall  f1-score   support\n",
      "\n",
      "       False       0.76      0.83      0.79      1084\n",
      "        True       0.62      0.51      0.56       582\n",
      "\n",
      "    accuracy                           0.72      1666\n",
      "   macro avg       0.69      0.67      0.68      1666\n",
      "weighted avg       0.71      0.72      0.71      1666\n",
      "\n"
     ]
    }
   ],
   "source": [
    "mat5 = confusion_matrix(test_veracity, predicted_categories5)\n",
    "sns.heatmap(mat5.T, square = True,xticklabels = [\"False\",\"True\"], yticklabels = [\"False\",\"True\"],annot=True, fmt = \"d\",cmap=\"RdPu\")\n",
    "plt.xlabel(\"Ground Truth label\")\n",
    "plt.ylabel(\"Predicted label\")\n",
    "plt.title(\"Decision Tree: Binary Classification\")\n",
    "#plt.savefig(\"Model 5- Decision Tree 2 class.png\")\n",
    "plt.show()\n",
    "\n",
    "# Compute and print classification performance metrics\n",
    "print(\"Accuracy:\\t%f\" % accuracy_score(test_veracity, predicted_categories5))\n",
    "print(\"F1-score:\\t%f\" % f1_score(test_veracity, predicted_categories5, average='macro'))\n",
    "print(\"Precision:\\t%f\" % precision_score(test_veracity, predicted_categories5, average='macro'))\n",
    "print(\"Recall:\\t\\t%f\" % recall_score(test_veracity, predicted_categories5, average='macro'))\n",
    "\n",
    "print(\"\\n Classification performance:\\n%s\" % classification_report(test_veracity, predicted_categories5))\n"
   ]
  },
  {
   "cell_type": "markdown",
   "id": "3fcaff24",
   "metadata": {},
   "source": [
    "# Model 5- Random Forest (100 Trees)"
   ]
  },
  {
   "cell_type": "code",
   "execution_count": 45,
   "id": "12fe90eb",
   "metadata": {},
   "outputs": [
    {
     "name": "stdout",
     "output_type": "stream",
     "text": [
      "Predicted Veracity: ['False', 'False', 'False', 'False', 'False']\n",
      "Ground truth Veracity: ['False', 'False', 'False', 'False', 'False'] \n",
      "\n"
     ]
    }
   ],
   "source": [
    "model6 = make_pipeline(TfidfVectorizer(), RandomForestClassifier(n_estimators=100))\n",
    "model6.fit(train_text, train_veracity) # Train\n",
    "\n",
    "predicted_categories6 = model6.predict(test_text) # Predict\n",
    "\n",
    "print(\"Predicted Veracity:\",predicted_categories6.tolist()[0:5]) # First 5 predictions\n",
    "print(\"Ground truth Veracity:\",test_veracity[0:5],\"\\n\") # First 5 ground truth values\n"
   ]
  },
  {
   "cell_type": "code",
   "execution_count": 46,
   "id": "dea42642",
   "metadata": {},
   "outputs": [
    {
     "data": {
      "image/png": "[encoded data removed]",
      "text/plain": [
       "<Figure size 432x288 with 2 Axes>"
      ]
     },
     "metadata": {},
     "output_type": "display_data"
    },
    {
     "name": "stdout",
     "output_type": "stream",
     "text": [
      "Accuracy:\t0.792917\n",
      "F1-score:\t0.753670\n",
      "Precision:\t0.789564\n",
      "Recall:\t\t0.739813\n",
      "\n",
      " Classification performance:\n",
      "              precision    recall  f1-score   support\n",
      "\n",
      "       False       0.80      0.92      0.85      1084\n",
      "        True       0.78      0.56      0.66       582\n",
      "\n",
      "    accuracy                           0.79      1666\n",
      "   macro avg       0.79      0.74      0.75      1666\n",
      "weighted avg       0.79      0.79      0.78      1666\n",
      "\n"
     ]
    }
   ],
   "source": [
    "mat6 = confusion_matrix(test_veracity, predicted_categories6)\n",
    "sns.heatmap(mat6.T, square = True,xticklabels = [\"False\",\"True\"], yticklabels = [\"False\",\"True\"],annot=True, fmt = \"d\",cmap=\"RdPu\")\n",
    "plt.xlabel(\"Ground Truth label\")\n",
    "plt.ylabel(\"Predicted label\")\n",
    "plt.title(\"Model 6 Performance- 100 Trees Random Forest (2 Class)\")\n",
    "#plt.savefig(\"Model 6- 100 Random forest 2 class.png\")\n",
    "plt.show()\n",
    "\n",
    "# Compute and print classification performance metrics\n",
    "print(\"Accuracy:\\t%f\" % accuracy_score(test_veracity, predicted_categories6))\n",
    "print(\"F1-score:\\t%f\" % f1_score(test_veracity, predicted_categories6, average='macro'))\n",
    "print(\"Precision:\\t%f\" % precision_score(test_veracity, predicted_categories6, average='macro'))\n",
    "print(\"Recall:\\t\\t%f\" % recall_score(test_veracity, predicted_categories6, average='macro'))\n",
    "\n",
    "print(\"\\n Classification performance:\\n%s\" % classification_report(test_veracity, predicted_categories6))\n"
   ]
  },
  {
   "cell_type": "markdown",
   "id": "a5433ffa",
   "metadata": {},
   "source": [
    "# Model 6- Random Forest (1000) trees"
   ]
  },
  {
   "cell_type": "code",
   "execution_count": 47,
   "id": "f877de0d",
   "metadata": {},
   "outputs": [
    {
     "name": "stdout",
     "output_type": "stream",
     "text": [
      "Predicted Veracity: ['False', 'False', 'False', 'False', 'False']\n",
      "Ground truth Veracity: ['False', 'False', 'False', 'False', 'False'] \n",
      "\n"
     ]
    }
   ],
   "source": [
    "model7 = make_pipeline(TfidfVectorizer(), RandomForestClassifier(n_estimators=1000))\n",
    "model7.fit(train_text, train_veracity) # Train\n",
    "\n",
    "predicted_categories7 = model7.predict(test_text) # Predict\n",
    "\n",
    "print(\"Predicted Veracity:\",predicted_categories7.tolist()[0:5]) # First 5 predictions\n",
    "print(\"Ground truth Veracity:\",test_veracity[0:5],\"\\n\") # First 5 ground truth values\n"
   ]
  },
  {
   "cell_type": "code",
   "execution_count": 83,
   "id": "1a0d517c",
   "metadata": {},
   "outputs": [
    {
     "data": {
      "image/png": "[encoded data removed]",
      "text/plain": [
       "<Figure size 432x288 with 2 Axes>"
      ]
     },
     "metadata": {},
     "output_type": "display_data"
    },
    {
     "name": "stdout",
     "output_type": "stream",
     "text": [
      "Accuracy:\t0.801321\n",
      "F1-score:\t0.765776\n",
      "Precision:\t0.797177\n",
      "Recall:\t\t0.752238\n",
      "\n",
      " Classification performance:\n",
      "              precision    recall  f1-score   support\n",
      "\n",
      "       False       0.81      0.92      0.86      1084\n",
      "        True       0.79      0.59      0.67       582\n",
      "\n",
      "    accuracy                           0.80      1666\n",
      "   macro avg       0.80      0.75      0.77      1666\n",
      "weighted avg       0.80      0.80      0.79      1666\n",
      "\n"
     ]
    }
   ],
   "source": [
    "mat7 = confusion_matrix(test_veracity, predicted_categories7)\n",
    "sns.heatmap(mat7.T, square = True,xticklabels = [\"False\",\"True\"], yticklabels = [\"False\",\"True\"],annot=True, fmt = \"d\",cmap=\"RdPu\")\n",
    "plt.xlabel(\"Ground Truth label\")\n",
    "plt.ylabel(\"Predicted label\")\n",
    "plt.title(\"Random Forest (1000 Trees): Binary Classification\")\n",
    "#plt.savefig(\"Model 7- 1000 Random Forest 2 class.png\")\n",
    "plt.show()\n",
    "\n",
    "# Compute and print classification performance metrics\n",
    "print(\"Accuracy:\\t%f\" % accuracy_score(test_veracity, predicted_categories7))\n",
    "print(\"F1-score:\\t%f\" % f1_score(test_veracity, predicted_categories7, average='macro'))\n",
    "print(\"Precision:\\t%f\" % precision_score(test_veracity, predicted_categories7, average='macro'))\n",
    "print(\"Recall:\\t\\t%f\" % recall_score(test_veracity, predicted_categories7, average='macro'))\n",
    "\n",
    "print(\"\\n Classification performance:\\n%s\" % classification_report(test_veracity, predicted_categories7))\n"
   ]
  },
  {
   "cell_type": "markdown",
   "id": "a638205c",
   "metadata": {},
   "source": [
    "# Model 8- Neural Network LSTM"
   ]
  },
  {
   "cell_type": "markdown",
   "id": "05097955",
   "metadata": {},
   "source": [
    "This model was formulated with guidance from Kasliwal, N. (2018). Natural Language Processing with Python Quick Start Guide (1st ed.). Van Haren Publishing"
   ]
  },
  {
   "cell_type": "code",
   "execution_count": 49,
   "id": "748d288d",
   "metadata": {},
   "outputs": [
    {
     "name": "stdout",
     "output_type": "stream",
     "text": [
      "                                                Text Veracity\n",
      "0  tonight thenine speak tom hancock last british...     True\n",
      "1    china struggle return work coronavirus shutdown     True\n",
      "2  coronavirus everywhere book flight take trip p...     True\n",
      "3  princes george louis princess charlotte show a...     True\n",
      "4  dog test positive coronavirus hong kong first ...     True\n"
     ]
    }
   ],
   "source": [
    "training_nn = pd.DataFrame({\"Text\":train_text, \"Veracity\":train_veracity})\n",
    "training_nn.to_csv('training_nn.csv',index=False)\n",
    "print(training_nn.head())"
   ]
  },
  {
   "cell_type": "code",
   "execution_count": 50,
   "id": "fb8366c3",
   "metadata": {},
   "outputs": [
    {
     "name": "stdout",
     "output_type": "stream",
     "text": [
      "71\n"
     ]
    }
   ],
   "source": [
    "max_words = 0\n",
    "for j in train_text:\n",
    "    max_words = max(len(j.split()), max_words) \n",
    "\n",
    "print(max_words) #This shows the maximum number of words in a text, so we know the longest. "
   ]
  },
  {
   "cell_type": "code",
   "execution_count": 51,
   "id": "18371fed",
   "metadata": {},
   "outputs": [],
   "source": [
    "import torch\n",
    "import torchtext\n",
    "from torchtext.legacy import data #For handling text data\n",
    "import torch.nn as nn\n",
    "import torch.optim as optim"
   ]
  },
  {
   "cell_type": "code",
   "execution_count": 52,
   "id": "f3298611",
   "metadata": {},
   "outputs": [],
   "source": [
    "#For LSTM, set it to include_lengths = False and fixed_lengths = True\n",
    "TEXT = data.Field(tokenize=word_tokenize,batch_first=True,include_lengths=True)\n",
    "LABEL = data.LabelField(dtype = torch.float, batch_first=True)\n",
    "fields = [('text',TEXT),('label', LABEL)]\n",
    "dataset = data.TabularDataset(path = \"training_nn.csv\", format = \"csv\", fields = fields, skip_header = True)\n"
   ]
  },
  {
   "cell_type": "code",
   "execution_count": 53,
   "id": "0d252c6d",
   "metadata": {},
   "outputs": [
    {
     "name": "stdout",
     "output_type": "stream",
     "text": [
      "Device: cpu\n"
     ]
    }
   ],
   "source": [
    "training_data, validation_data = dataset.split(split_ratio=0.7) #Splitting the dat 70 for training, 30 for testing\n",
    " \n",
    "# Building an object that splits text and labels\n",
    "TEXT.build_vocab(training_data, min_freq = 1) #Minimum frequency has to be 1. \n",
    "LABEL.build_vocab(training_data)\n",
    "\n",
    "\n",
    "device = torch.device('cuda' if torch.cuda.is_available() else 'cpu')\n",
    "print(\"Device:\",device)\n",
    "BatchSize = 32 # Bengio (2012) recommends 32\n",
    "training_iterator, test_iterator = data.BucketIterator.splits(\n",
    "    (training_data, validation_data),\n",
    "    batch_size = BatchSize,\n",
    "    sort_key = lambda x: len(x.text),\n",
    "    sort_within_batch=True,\n",
    "    device = device)"
   ]
  },
  {
   "cell_type": "code",
   "execution_count": 54,
   "id": "2585fa9b",
   "metadata": {},
   "outputs": [
    {
     "name": "stdout",
     "output_type": "stream",
     "text": [
      "Size of Text: 5918\n",
      "Size of Veracity: 2 \n",
      "\n",
      "Most common tokens: [('coronavirus', 1888), ('covid-19', 517), ('china', 482), ('virus', 407), ('people', 398)] \n",
      "\n",
      "Number for unknown word: 0\n",
      "Number for padding word: 1\n",
      "Number assigned to veracity: defaultdict(None, {'False': 0, 'True': 1})\n"
     ]
    }
   ],
   "source": [
    "print(\"Size of Text:\",len(TEXT.vocab)) # Number of tokens in vocabulary\n",
    "print(\"Size of Veracity:\",len(LABEL.vocab),\"\\n\") # Number of labels\n",
    "print(\"Most common tokens:\",TEXT.vocab.freqs.most_common(5),\"\\n\") # Print the 5 most common in the training set\n",
    "\n",
    "print(\"Number for unknown word:\",TEXT.vocab.stoi['<unk>']) \n",
    "print(\"Number for padding word:\",TEXT.vocab.stoi['<pad>'])\n",
    "\n",
    "print(\"Number assigned to veracity:\", LABEL.vocab.stoi) #Number assigned to veracity labels\n"
   ]
  },
  {
   "cell_type": "code",
   "execution_count": 55,
   "id": "a1449960",
   "metadata": {},
   "outputs": [
    {
     "name": "stdout",
     "output_type": "stream",
     "text": [
      "LSTM(\n",
      "  (embedding): Embedding(5918, 100)\n",
      "  (lstm): LSTM(100, 28, num_layers=2, batch_first=True, dropout=0.5, bidirectional=True)\n",
      "  (fc1): Linear(in_features=56, out_features=1, bias=True)\n",
      "  (act): Sigmoid()\n",
      ")\n",
      "\n",
      " The number of LSTM trainable parameters: 640241\n"
     ]
    }
   ],
   "source": [
    "class LSTM(nn.Module):\n",
    "    def __init__(self, vocab_size, embedding_dim, hidden_dim, output_dim, n_layers,\n",
    "        bidirectional, dropout):\n",
    "        super().__init__()\n",
    "        self.embedding = nn.Embedding(vocab_size, embedding_dim)\n",
    "        self.lstm = nn.LSTM(embedding_dim, \n",
    "                            hidden_dim, \n",
    "                            num_layers=n_layers, \n",
    "                            bidirectional=bidirectional, \n",
    "                            dropout=dropout, \n",
    "                            batch_first=True)\n",
    "        self.fc1 = nn.Linear(hidden_dim * 2, output_dim)\n",
    "        self.act = nn.Sigmoid()\n",
    "    \n",
    "    def forward(self, text, text_lengths):\n",
    "        embedded = self.embedding(text)\n",
    "        packed_embedded = nn.utils.rnn.pack_padded_sequence(embedded, text_lengths,batch_first=True)\n",
    "        packed_output, (hidden, cell) = self.lstm(packed_embedded)\n",
    "        hidden = torch.cat((hidden[-2,:,:], hidden[-1,:,:]), dim = 1)\n",
    "        dense_outputs=self.fc1(hidden)\n",
    "        outputs=self.act(dense_outputs)\n",
    "        return outputs\n",
    "    \n",
    "# Inputs\n",
    "vocabulary_size = len(TEXT.vocab) #Length of vocab\n",
    "embedding_dim = 100 \n",
    "LSTM_nodes = 28 #28 hidden nodes\n",
    "LSTM_layers = 2 # Recommended by Thoma (2015) \n",
    "LSTM_bidirection = True\n",
    "LSTM_dropout = 0.5 # Recommended by Rao and McMahan (2019)\n",
    "output = 1 #Output size is 1\n",
    "\n",
    "# Create Model\n",
    "LSTM_classification = LSTM(vocabulary_size, embedding_dim, LSTM_nodes,\n",
    "    output, LSTM_layers,\n",
    "    bidirectional = LSTM_bidirection,dropout = LSTM_dropout)\n",
    "\n",
    "# Printing LSTM Model archiecture\n",
    "print(LSTM_classification)\n",
    "\n",
    "def parameters(model):\n",
    "    return sum(p.numel() for p in LSTM_classification .parameters() if p.requires_grad)\n",
    "print(\"\\n The number of LSTM trainable parameters:\",parameters(LSTM_classification))\n"
   ]
  },
  {
   "cell_type": "code",
   "execution_count": 56,
   "id": "fc6455f1",
   "metadata": {},
   "outputs": [],
   "source": [
    "import torch.optim as optim\n",
    "optimizer = optim.Adam(LSTM_classification.parameters()) # Use the Adam optimiser\n",
    "criterion = nn.BCELoss()\n",
    "\n",
    "def binary_pred(preds, y):\n",
    "    rounded_preds = torch.round(preds) # Round predictions\n",
    "    correct = (rounded_preds == y).float()\n",
    "    acc = correct.sum() / len(correct)\n",
    "    return acc\n",
    "\n",
    "LSTM_classification = LSTM_classification.to(device)\n",
    "criterion = criterion.to(device)\n",
    "\n",
    "\n",
    "def train(model, iterator, optimizer, criterion):\n",
    "    epoch_loss = 0\n",
    "    epoch_acc = 0\n",
    "    model.train() # Set the model in training phase\n",
    "    for batch in iterator:\n",
    "        optimizer.zero_grad() # Reset the gradients after every batch\n",
    "        text, text_lengths = batch.text # Retrieve text and number of words \n",
    "        predictions = model(text, text_lengths).squeeze() # Convert to 1D tensor\n",
    "        loss = criterion(predictions, batch.label) # Compute the loss\n",
    "        acc = binary_pred(predictions, batch.label) # Compute the binary accuracy \n",
    "        loss.backward() # Backpropagation\n",
    "        optimizer.step() # Update the weights\n",
    "        # Update epoch's loss and accuracy\n",
    "        epoch_loss += loss.item()\n",
    "        epoch_acc += acc.item()\n",
    "    return epoch_loss / len(iterator), epoch_acc / len(iterator)\n",
    "\n",
    "\n",
    "def evaluate(model, iterator, criterion):\n",
    "    epoch_loss = 0\n",
    "    epoch_acc = 0\n",
    "    model.eval() # Set the model in evaluation phase\n",
    "    with torch.no_grad(): #Deactivates autograd\n",
    "        for batch in iterator:\n",
    "            text, text_lengths = batch.text # Retrieve text and number of words \n",
    "            predictions = model(text, text_lengths).squeeze() # Convert to 1d tensor \n",
    "            loss = criterion(predictions, batch.label) # Compute loss and accuracy \n",
    "            acc = binary_pred(predictions, batch.label)\n",
    "            # Update epoch's loss and accuracy\n",
    "            epoch_loss += loss.item()\n",
    "            epoch_acc += acc.item()\n",
    "    return epoch_loss / len(iterator), epoch_acc / len(iterator)"
   ]
  },
  {
   "cell_type": "code",
   "execution_count": 57,
   "id": "1accca6d",
   "metadata": {},
   "outputs": [
    {
     "name": "stdout",
     "output_type": "stream",
     "text": [
      "Epoch   0: Train loss: 0.679 | Train acuracy: 0.5890 | Validation loss: 0.625 | Validation acuracy: 0.6628 - 3.63 s\n",
      "Epoch   1: Train loss: 0.500 | Train acuracy: 0.7651 | Validation loss: 0.466 | Validation acuracy: 0.7858 - 4.51 s\n",
      "Epoch   2: Train loss: 0.326 | Train acuracy: 0.8679 | Validation loss: 0.417 | Validation acuracy: 0.8309 - 3.90 s\n",
      "Epoch   3: Train loss: 0.212 | Train acuracy: 0.9235 | Validation loss: 0.385 | Validation acuracy: 0.8488 - 3.28 s\n",
      "Epoch   4: Train loss: 0.152 | Train acuracy: 0.9420 | Validation loss: 0.422 | Validation acuracy: 0.8546 - 3.28 s\n"
     ]
    }
   ],
   "source": [
    "import time\n",
    "\n",
    "Epochs = 5\n",
    "\n",
    "# Training the model over 5 epochs\n",
    "for epoch in range(Epochs):\n",
    "    print(\"Epoch %3d:\" % epoch,end='')\n",
    "    start = time.time()\n",
    "    train_loss, train_acc = train(LSTM_classification, training_iterator, optimizer, criterion)\n",
    "    \n",
    "    valid_loss, valid_acc = evaluate(LSTM_classification, test_iterator, criterion)\n",
    "\n",
    "    print(\" Train loss: %.3f | Train acuracy: %3.4f \" % (train_loss,train_acc),end='')\n",
    "    print(\"| Validation loss: %.3f | Validation acuracy: %3.4f\" % (valid_loss,valid_acc),end='')\n",
    "    print(\" - %3.2f s\" % (time.time()-start))\n",
    "\n"
   ]
  },
  {
   "cell_type": "code",
   "execution_count": 58,
   "id": "7fbcc729",
   "metadata": {},
   "outputs": [
    {
     "name": "stdout",
     "output_type": "stream",
     "text": [
      "Predicted Veracity: ['False', 'False', 'False', 'False', 'False']\n",
      "Ground Truth Veracity: ['False', 'False', 'False', 'False', 'False']\n"
     ]
    }
   ],
   "source": [
    "def LSTM_predict(model, sentence):\n",
    "    tokenised = [token for token in word_tokenize(sentence)] # Tokenise text\n",
    "    indexed = [TEXT.vocab.stoi[token] for token in tokenised]\n",
    "    length = [len(indexed)] \n",
    "    tensor = torch.LongTensor(indexed).to(device) \n",
    "    tensor = tensor.unsqueeze(1).T \n",
    "    length_tensor = torch.LongTensor(length) \n",
    "    prediction = model(tensor, length_tensor) \n",
    "    return int(round(prediction.item()))\n",
    "\n",
    "\n",
    "label_names = {0:\"False\",1:\"True\"}\n",
    "#{'False': 0, 'True': 1})\n",
    "\n",
    "prediction3 = []\n",
    "for i in test_text:\n",
    "    predict_label = label_names[LSTM_predict(LSTM_classification, i)]\n",
    "    prediction3.append(predict_label)\n",
    "    \n",
    "print(\"Predicted Veracity:\",prediction3[0:5])\n",
    "print(\"Ground Truth Veracity:\",test_veracity[0:5])"
   ]
  },
  {
   "cell_type": "code",
   "execution_count": 84,
   "id": "e1096e58",
   "metadata": {},
   "outputs": [
    {
     "data": {
      "image/png": "[encoded data removed]",
      "text/plain": [
       "<Figure size 432x288 with 2 Axes>"
      ]
     },
     "metadata": {},
     "output_type": "display_data"
    },
    {
     "name": "stdout",
     "output_type": "stream",
     "text": [
      "Accuracy:\t0.783313\n",
      "F1-score:\t0.766014\n",
      "Precision:\t0.762197\n",
      "Recall:\t\t0.771422\n",
      "\n",
      " Classification performance:\n",
      "              precision    recall  f1-score   support\n",
      "\n",
      "       False       0.85      0.81      0.83      1084\n",
      "        True       0.68      0.73      0.70       582\n",
      "\n",
      "    accuracy                           0.78      1666\n",
      "   macro avg       0.76      0.77      0.77      1666\n",
      "weighted avg       0.79      0.78      0.79      1666\n",
      "\n"
     ]
    }
   ],
   "source": [
    "mat8 = confusion_matrix(test_veracity, prediction3)\n",
    "sns.heatmap(mat8.T, square = True,xticklabels = [\"False\",\"True\"], yticklabels = [\"False\",\"True\"], annot=True, fmt = \"d\",cmap=\"RdPu\")\n",
    "\n",
    "plt.xlabel(\"Ground Truth label\")\n",
    "plt.ylabel(\"Predicted label\")\n",
    "#plt.title(\"LSTM: Binary Classification\")\n",
    "plt.savefig(\"Model 8- LSTM 2 class.png\")\n",
    "plt.show()\n",
    "\n",
    "# Compute and print classification performance metrics\n",
    "print(\"Accuracy:\\t%f\" % accuracy_score(test_veracity, prediction3))\n",
    "print(\"F1-score:\\t%f\" % f1_score(test_veracity, prediction3, average='macro'))\n",
    "print(\"Precision:\\t%f\" % precision_score(test_veracity, prediction3, average='macro'))\n",
    "print(\"Recall:\\t\\t%f\" % recall_score(test_veracity, prediction3, average='macro'))\n",
    "\n",
    "print(\"\\n Classification performance:\\n%s\" % classification_report(test_veracity, prediction3))\n"
   ]
  },
  {
   "cell_type": "markdown",
   "id": "ac011705",
   "metadata": {},
   "source": [
    "# Model 9- CNN"
   ]
  },
  {
   "cell_type": "markdown",
   "id": "09972ea1",
   "metadata": {},
   "source": [
    "Model guided by Trevett, B. (2021). pytorch-sentiment-analysis/4 - Convolutional Sentiment Analysis.ipynb at master · bentrevett/pytorch-sentiment-analysis. GitHub. Retrieved 20 May 2022, from https://github.com/bentrevett/pytorch-sentiment-analysis/blob/master/4%20-%20Convolutional%20Sentiment%20Analysis.ipynb"
   ]
  },
  {
   "cell_type": "code",
   "execution_count": 60,
   "id": "fc3776f4",
   "metadata": {},
   "outputs": [
    {
     "name": "stdout",
     "output_type": "stream",
     "text": [
      "71\n"
     ]
    }
   ],
   "source": [
    "max_words = 0\n",
    "for sentence in train_text :\n",
    "    max_words = max(len(sentence.split()), max_words ) \n",
    "\n",
    "print(max_words) "
   ]
  },
  {
   "cell_type": "code",
   "execution_count": 61,
   "id": "7ce4d2d0",
   "metadata": {},
   "outputs": [],
   "source": [
    "# For CNN, using the argument fix_length which is the maximum sentence length\n",
    "# for padding purposes.\n",
    "TEXT = data.Field(tokenize=word_tokenize,batch_first=True, fix_length = max_words)\n",
    "LABEL = data.LabelField(dtype = torch.float, batch_first=True)\n",
    "fields = [('text',TEXT),('label', LABEL)]\n",
    "dataset = data.TabularDataset(path = \"training_nn.csv\", format = \"csv\", fields = fields, skip_header = True)\n"
   ]
  },
  {
   "cell_type": "code",
   "execution_count": 62,
   "id": "ab80e979",
   "metadata": {},
   "outputs": [],
   "source": [
    "training_data, validation_data = dataset.split(split_ratio=0.7)\n",
    "\n",
    "# Build the vocab and labels, where they must occur at least once.\n",
    "TEXT.build_vocab(training_data, min_freq = 1)\n",
    "LABEL.build_vocab(training_data)"
   ]
  },
  {
   "cell_type": "code",
   "execution_count": 63,
   "id": "9c5d4cf7",
   "metadata": {},
   "outputs": [
    {
     "name": "stdout",
     "output_type": "stream",
     "text": [
      "Size of text vocabulary: 5918\n",
      "Size of label vocabulary: 2 \n",
      "\n",
      "Most common tokens: [('coronavirus', 1888), ('covid-19', 517), ('china', 482), ('virus', 407), ('people', 398)] \n",
      "\n",
      "Number for unknown word : 0\n",
      "Number for padding word : 1\n",
      "Veracity labels: defaultdict(None, {'False': 0, 'True': 1})\n"
     ]
    }
   ],
   "source": [
    "print(\"Size of text vocabulary:\",len(TEXT.vocab)) \n",
    "print(\"Size of label vocabulary:\",len(LABEL.vocab),\"\\n\") \n",
    "print(\"Most common tokens:\",TEXT.vocab.freqs.most_common(5),\"\\n\")\n",
    "\n",
    "print(\"Number for unknown word :\",TEXT.vocab.stoi['<unk>']) \n",
    "print(\"Number for padding word :\",TEXT.vocab.stoi['<pad>'])\n",
    "#Print the lablel keys which are needed later when predicting.\n",
    "print(\"Veracity labels:\", LABEL.vocab.stoi)"
   ]
  },
  {
   "cell_type": "code",
   "execution_count": 64,
   "id": "b680b60c",
   "metadata": {},
   "outputs": [
    {
     "name": "stdout",
     "output_type": "stream",
     "text": [
      "Device: cpu\n"
     ]
    }
   ],
   "source": [
    "device = torch.device('cuda' if torch.cuda.is_available() else 'cpu')\n",
    "print(\"Device:\",device)\n",
    "BatchSize = 32\n",
    "training_iterator, test_iterator = data.BucketIterator.splits(\n",
    "    (training_data, validation_data),\n",
    "    batch_size = BatchSize,\n",
    "    sort_key = lambda x: len(x.text),\n",
    "    sort_within_batch=True,\n",
    "    device = device)"
   ]
  },
  {
   "cell_type": "code",
   "execution_count": 70,
   "id": "c532f9ca",
   "metadata": {},
   "outputs": [
    {
     "name": "stdout",
     "output_type": "stream",
     "text": [
      "CNN(\n",
      "  (embedding): Embedding(5918, 100, padding_idx=1)\n",
      "  (conv_layers): ModuleList(\n",
      "    (0): Conv1d(100, 100, kernel_size=(2,), stride=(1,), padding=same)\n",
      "    (1): Conv1d(100, 100, kernel_size=(3,), stride=(1,), padding=same)\n",
      "    (2): Conv1d(100, 100, kernel_size=(4,), stride=(1,), padding=same)\n",
      "  )\n",
      "  (maxpool1d): MaxPool1d(kernel_size=2, stride=2, padding=0, dilation=1, ceil_mode=False)\n",
      "  (fc): Linear(in_features=300, out_features=1, bias=True)\n",
      "  (dropout): Dropout(p=0.5, inplace=False)\n",
      ")\n",
      "\n",
      " CNN model trainable parameters: 682401\n"
     ]
    }
   ],
   "source": [
    "class CNN(nn.Module):\n",
    "    def __init__(self, vocab_size, embedding_dim, output_dim, n_filters,\n",
    "                filter_sizes, pad_idx, dropout):\n",
    "        super().__init__()\n",
    "        self.embedding = nn.Embedding(vocab_size, embedding_dim, padding_idx = pad_idx)\n",
    "        \n",
    "        self.conv_layers = nn.ModuleList([\n",
    "            nn.Conv1d(in_channels = embedding_dim, out_channels = n_filters,\n",
    "                      kernel_size = f, padding = 'same') for f in filter_sizes])\n",
    "        \n",
    "        self.maxpool1d = nn.MaxPool1d(2, stride = 2)\n",
    "        \n",
    "        self.fc = nn.Linear(len(filter_sizes) * n_filters,output_dim)\n",
    "        \n",
    "        self.dropout = nn.Dropout(dropout)\n",
    "        \n",
    "    def forward(self, text):\n",
    "        embedded = self.embedding(text)\n",
    "        embedded = embedded.permute(0,2,1)\n",
    "        conved = [F.relu(conv(embedded)) for conv in self.conv_layers]\n",
    "        pooled = [F.max_pool1d(conv, conv.shape[2]).squeeze(2) for conv in conved]\n",
    "        cat = self.dropout(torch.cat(pooled, dim = 1))\n",
    "        return self.fc(cat)\n",
    "        \n",
    "# Inputs\n",
    "vocab_size = len(TEXT.vocab) # Length of Vocab\n",
    "embedding_dim = 100 # Embedding Dimension of 100\n",
    "output = 1 #Output size is 1\n",
    "n_filters = 100 #There are 100 filters\n",
    "filter_sizes = [2,3,4] #Bi-gram, Tri-gram and Four-gram. Recommended by Rao and McMahan (2019) \n",
    "pad_idx = TEXT.vocab.stoi[TEXT.pad_token] #Set padding to 1\n",
    "dropout = 0.5 #Dropout rate of 0.5\n",
    "    \n",
    "CNN_classification = CNN(vocab_size, \n",
    "            embedding_dim,\n",
    "            output,\n",
    "            n_filters,\n",
    "            filter_sizes,\n",
    "            pad_idx,\n",
    "            dropout)\n",
    "\n",
    "#Printing the model architecture\n",
    "print(CNN_classification)\n",
    "def parameters(model):\n",
    "    return sum(p.numel() for p in CNN_classification.parameters() if p.requires_grad)\n",
    "print(\"\\n CNN model trainable parameters:\",parameters(CNN_classification))\n"
   ]
  },
  {
   "cell_type": "code",
   "execution_count": 71,
   "id": "b5705273",
   "metadata": {},
   "outputs": [],
   "source": [
    "optimizer = torch.optim.Adam(CNN_classification.parameters()) \n",
    "criterion  = nn.BCEWithLogitsLoss() # Use binary cross entropy loss as loss fucntion\n",
    "\n",
    "def binary_accuracy(preds, y):\n",
    "    rounded_preds = torch.round(torch.sigmoid(preds))\n",
    "    correct = (rounded_preds == y).float() \n",
    "    acc = correct.sum() / len(correct)\n",
    "    return acc\n",
    "\n",
    "\n",
    "CNN_classification = CNN_classification.to(device)\n",
    "criterion = criterion.to(device)"
   ]
  },
  {
   "cell_type": "code",
   "execution_count": 72,
   "id": "07c0ef13",
   "metadata": {},
   "outputs": [
    {
     "name": "stdout",
     "output_type": "stream",
     "text": [
      "Epoch   0: Train loss: 0.652 | Train acuracy: 0.6180 | Validation loss: 0.541 | Validation acuracy: 0.7374 - 7.51 s\n",
      "Epoch   1: Train loss: 0.476 | Train acuracy: 0.7777 | Validation loss: 0.458 | Validation acuracy: 0.7842 - 6.98 s\n",
      "Epoch   2: Train loss: 0.342 | Train acuracy: 0.8647 | Validation loss: 0.392 | Validation acuracy: 0.8391 - 6.73 s\n",
      "Epoch   3: Train loss: 0.246 | Train acuracy: 0.9139 | Validation loss: 0.345 | Validation acuracy: 0.8582 - 6.93 s\n",
      "Epoch   4: Train loss: 0.173 | Train acuracy: 0.9441 | Validation loss: 0.342 | Validation acuracy: 0.8493 - 6.60 s\n",
      "Epoch   5: Train loss: 0.132 | Train acuracy: 0.9566 | Validation loss: 0.346 | Validation acuracy: 0.8520 - 6.63 s\n"
     ]
    }
   ],
   "source": [
    "def train(model, iterator, optimizer, criterion):\n",
    "    epoch_loss = 0\n",
    "    epoch_acc = 0\n",
    "    model.train()\n",
    "    for batch in iterator:\n",
    "        optimizer.zero_grad()\n",
    "        predictions = model(batch.text).squeeze(1)\n",
    "        loss = criterion(predictions, batch.label)\n",
    "        acc = binary_accuracy(predictions, batch.label)\n",
    "        loss.backward()\n",
    "        optimizer.step()\n",
    "        epoch_loss += loss.item()\n",
    "        epoch_acc += acc.item()\n",
    "    return epoch_loss / len(iterator), epoch_acc / len(iterator)\n",
    "\n",
    "def evaluate(model, iterator, criterion):\n",
    "    epoch_loss = 0\n",
    "    epoch_acc = 0\n",
    "    model.eval()\n",
    "    with torch.no_grad():\n",
    "        for batch in iterator:\n",
    "            predictions = model(batch.text).squeeze(1)\n",
    "            loss = criterion(predictions, batch.label)\n",
    "            acc = binary_accuracy(predictions, batch.label)\n",
    "            epoch_loss += loss.item()\n",
    "            epoch_acc += acc.item()\n",
    "    return epoch_loss / len(iterator), epoch_acc / len(iterator)\n",
    "\n",
    "import time\n",
    "\n",
    "Epochs = 6 # 6 epochs\n",
    "\n",
    "for epoch in range(Epochs):\n",
    "    print(\"Epoch %3d:\" % epoch,end='')\n",
    "    start = time.time()\n",
    "    train_loss, train_acc = train(CNN_classification, training_iterator, optimizer, criterion)\n",
    "    \n",
    "    valid_loss, valid_acc = evaluate(CNN_classification, test_iterator, criterion)\n",
    "    print(\" Train loss: %.3f | Train acuracy: %3.4f \" % (train_loss,train_acc),end='')\n",
    "    print(\"| Validation loss: %.3f | Validation acuracy: %3.4f\" % (valid_loss,valid_acc),end='')\n",
    "    print(\" - %3.2f s\" % (time.time()-start))\n"
   ]
  },
  {
   "cell_type": "code",
   "execution_count": 73,
   "id": "d46be57e",
   "metadata": {
    "scrolled": true
   },
   "outputs": [
    {
     "name": "stdout",
     "output_type": "stream",
     "text": [
      "Predicted Veracity: ['False', 'False', 'False', 'False', 'False']\n",
      "Ground Truth Veracity: ['False', 'False', 'False', 'False', 'False']\n"
     ]
    }
   ],
   "source": [
    "def predict_CNN(model, sentence, min_len = max_words):\n",
    "    tokenised = [token for token in word_tokenize(sentence)] # Tokenise text\n",
    "    if len(tokenised) < min_len:\n",
    "        tokenised+= ['<pad>'] * (min_len - len(tokenised))\n",
    "    \n",
    "    indexed = [TEXT.vocab.stoi[token] for token in tokenised] \n",
    "    tensor = torch.LongTensor(indexed).to(device)\n",
    "    tensor = tensor.unsqueeze(0)\n",
    "    prediction = model(tensor)\n",
    "    prediction = torch.sigmoid(model(tensor))\n",
    "    return int(round(prediction.item()))\n",
    "\n",
    "\n",
    "# Ensuring labels for neurals match up with the correct labels to predict veracity\n",
    "label_names = {0:'False',1:'True'}\n",
    "\n",
    "prediction9 = []\n",
    "\n",
    "for i in test_text:\n",
    "    predict_label = label_names[predict_CNN(CNN_classification, i)]\n",
    "    prediction9.append(predict_label)\n",
    "    \n",
    "print(\"Predicted Veracity:\",prediction9[0:5])\n",
    "print(\"Ground Truth Veracity:\",test_veracity[0:5])\n"
   ]
  },
  {
   "cell_type": "code",
   "execution_count": 86,
   "id": "69337065",
   "metadata": {},
   "outputs": [
    {
     "data": {
      "image/png": "[encoded data removed]",
      "text/plain": [
       "<Figure size 432x288 with 2 Axes>"
      ]
     },
     "metadata": {},
     "output_type": "display_data"
    },
    {
     "name": "stdout",
     "output_type": "stream",
     "text": [
      "Accuracy:\t0.774910\n",
      "F1-score:\t0.762762\n",
      "Precision:\t0.758025\n",
      "Recall:\t\t0.777298\n",
      "\n",
      " Classification performance:\n",
      "              precision    recall  f1-score   support\n",
      "\n",
      "       False       0.87      0.77      0.82      1084\n",
      "        True       0.65      0.79      0.71       582\n",
      "\n",
      "    accuracy                           0.77      1666\n",
      "   macro avg       0.76      0.78      0.76      1666\n",
      "weighted avg       0.79      0.77      0.78      1666\n",
      "\n"
     ]
    }
   ],
   "source": [
    "mat9 = confusion_matrix(test_veracity, prediction9)\n",
    "sns.heatmap(mat9.T, square = True ,xticklabels = [\"False\",\"True\"], yticklabels = [\"False\",\"True\"], annot=True, fmt = \"d\",cmap=\"RdPu\")\n",
    "\n",
    "plt.xlabel(\"Ground Truth label\")\n",
    "plt.ylabel(\"Predicted label\")\n",
    "plt.title(\"CNN: Binary Classification\")\n",
    "#plt.savefig(\"Model 9- CNN 2 class.png\")\n",
    "plt.show()\n",
    "\n",
    "# Compute and print classification performance metrics\n",
    "print(\"Accuracy:\\t%f\" % accuracy_score(test_veracity, prediction9))\n",
    "print(\"F1-score:\\t%f\" % f1_score(test_veracity, prediction9, average='macro'))\n",
    "print(\"Precision:\\t%f\" % precision_score(test_veracity, prediction9, average='macro'))\n",
    "print(\"Recall:\\t\\t%f\" % recall_score(test_veracity, prediction9, average='macro'))\n",
    "\n",
    "print(\"\\n Classification performance:\\n%s\" % classification_report(test_veracity, prediction9))\n"
   ]
  }
 ],
 "metadata": {
  "kernelspec": {
   "display_name": "Python 3",
   "language": "python",
   "name": "python3"
  },
  "language_info": {
   "codemirror_mode": {
    "name": "ipython",
    "version": 3
   },
   "file_extension": ".py",
   "mimetype": "text/x-python",
   "name": "python",
   "nbconvert_exporter": "python",
   "pygments_lexer": "ipython3",
   "version": "3.8.8"
  }
 },
 "nbformat": 4,
 "nbformat_minor": 5
}
